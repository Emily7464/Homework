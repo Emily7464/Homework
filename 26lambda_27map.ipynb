{
  "nbformat": 4,
  "nbformat_minor": 0,
  "metadata": {
    "colab": {
      "provenance": [],
      "authorship_tag": "ABX9TyOixGZDlKcZsR1+3mTIxCPC",
      "include_colab_link": true
    },
    "kernelspec": {
      "name": "python3",
      "display_name": "Python 3"
    },
    "language_info": {
      "name": "python"
    }
  },
  "cells": [
    {
      "cell_type": "markdown",
      "metadata": {
        "id": "view-in-github",
        "colab_type": "text"
      },
      "source": [
        "<a href=\"https://colab.research.google.com/github/Emily7464/Homework/blob/main/26lambda_27map.ipynb\" target=\"_parent\"><img src=\"https://colab.research.google.com/assets/colab-badge.svg\" alt=\"Open In Colab\"/></a>"
      ]
    },
    {
      "cell_type": "code",
      "execution_count": 1,
      "metadata": {
        "id": "UEUy8mtLiAri"
      },
      "outputs": [],
      "source": [
        "inData=20"
      ]
    },
    {
      "cell_type": "code",
      "source": [
        "octData=0o24\n",
        "hexData=0x14"
      ],
      "metadata": {
        "id": "CL5BK6Z3iLOE"
      },
      "execution_count": 2,
      "outputs": []
    },
    {
      "cell_type": "code",
      "source": [
        "fDta1=1.0\n",
        "fData=2."
      ],
      "metadata": {
        "id": "CGEP24qKiRnb"
      },
      "execution_count": 3,
      "outputs": []
    },
    {
      "cell_type": "code",
      "source": [
        "cData1=1+1j\n",
        "cData2=complex(1,1)\n",
        "print(cData1==cData2)"
      ],
      "metadata": {
        "colab": {
          "base_uri": "https://localhost:8080/"
        },
        "id": "jb8EVTnQiWLI",
        "outputId": "1756c2ed-2133-482a-c7d1-59ecd5f8323c"
      },
      "execution_count": 4,
      "outputs": [
        {
          "output_type": "stream",
          "name": "stdout",
          "text": [
            "True\n"
          ]
        }
      ]
    },
    {
      "cell_type": "code",
      "source": [
        "print(cData1.real)\n",
        "print(cData2.imag)"
      ],
      "metadata": {
        "colab": {
          "base_uri": "https://localhost:8080/"
        },
        "id": "9zeOxo-ainOT",
        "outputId": "ccda8594-b5f0-48b6-cfde-b9ad254daeff"
      },
      "execution_count": 5,
      "outputs": [
        {
          "output_type": "stream",
          "name": "stdout",
          "text": [
            "1.0\n",
            "1.0\n"
          ]
        }
      ]
    }
  ]
}