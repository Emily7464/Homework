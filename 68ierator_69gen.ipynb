{
  "nbformat": 4,
  "nbformat_minor": 0,
  "metadata": {
    "colab": {
      "provenance": [],
      "authorship_tag": "ABX9TyO8+msLdY2f9xbjApf4Bdb0",
      "include_colab_link": true
    },
    "kernelspec": {
      "name": "python3",
      "display_name": "Python 3"
    },
    "language_info": {
      "name": "python"
    }
  },
  "cells": [
    {
      "cell_type": "markdown",
      "metadata": {
        "id": "view-in-github",
        "colab_type": "text"
      },
      "source": [
        "<a href=\"https://colab.research.google.com/github/Emily7464/Homework/blob/main/68ierator_69gen.ipynb\" target=\"_parent\"><img src=\"https://colab.research.google.com/assets/colab-badge.svg\" alt=\"Open In Colab\"/></a>"
      ]
    },
    {
      "cell_type": "code",
      "execution_count": 1,
      "metadata": {
        "id": "gEPVCJEt43XQ"
      },
      "outputs": [],
      "source": [
        "mystack=[]"
      ]
    },
    {
      "cell_type": "code",
      "source": [
        "def putData(data):\n",
        "  mystack.append(data)"
      ],
      "metadata": {
        "id": "dl7nUcG65OAa"
      },
      "execution_count": 2,
      "outputs": []
    },
    {
      "cell_type": "code",
      "source": [
        "def popData():\n",
        "  if len(mystack)==0:\n",
        "    return None\n",
        "  return mtstack.pop()"
      ],
      "metadata": {
        "id": "ALiL2Eye5WBB"
      },
      "execution_count": 3,
      "outputs": []
    },
    {
      "cell_type": "code",
      "source": [
        "putData('사과')\n",
        "putData([1,2,3])\n",
        "putData(3.141592)\n",
        "print(f'스택상태:{mystack}')"
      ],
      "metadata": {
        "colab": {
          "base_uri": "https://localhost:8080/"
        },
        "id": "IVyFTXL95oxC",
        "outputId": "76335d64-48e7-4c36-cbf5-3364cca02873"
      },
      "execution_count": 5,
      "outputs": [
        {
          "output_type": "stream",
          "name": "stdout",
          "text": [
            "스택상태:['사과', [1, 2, 3], 3.141592]\n"
          ]
        }
      ]
    },
    {
      "cell_type": "code",
      "source": [],
      "metadata": {
        "id": "HO6YIx7t58Iy"
      },
      "execution_count": null,
      "outputs": []
    }
  ]
}