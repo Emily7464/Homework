{
  "nbformat": 4,
  "nbformat_minor": 0,
  "metadata": {
    "colab": {
      "provenance": [],
      "authorship_tag": "ABX9TyPr0gmJpimnGNaphY2s2Wd8",
      "include_colab_link": true
    },
    "kernelspec": {
      "name": "python3",
      "display_name": "Python 3"
    },
    "language_info": {
      "name": "python"
    }
  },
  "cells": [
    {
      "cell_type": "markdown",
      "metadata": {
        "id": "view-in-github",
        "colab_type": "text"
      },
      "source": [
        "<a href=\"https://colab.research.google.com/github/Emily7464/Repository-name-Exercise_2025/blob/main/10input_11if.ipynb\" target=\"_parent\"><img src=\"https://colab.research.google.com/assets/colab-badge.svg\" alt=\"Open In Colab\"/></a>"
      ]
    },
    {
      "cell_type": "code",
      "execution_count": 1,
      "metadata": {
        "colab": {
          "base_uri": "https://localhost:8080/"
        },
        "id": "j51q5UCASLBV",
        "outputId": "8917ef67-9019-4fee-bfd2-7444aa72cfd5"
      },
      "outputs": [
        {
          "output_type": "stream",
          "name": "stdout",
          "text": [
            "\"a\"가 listData에 요쇼로 존재합니다.\n"
          ]
        }
      ],
      "source": [
        "listData=['a','b','c']\n",
        "if 'a'in listData:\n",
        "  print('\"a\"가 listData에 요쇼로 존재합니다.')\n",
        "else:\n",
        "  print('\"a가listData에 요소로 존재하지 않습니다.')\n",
        ""
      ]
    },
    {
      "cell_type": "code",
      "source": [
        "listData=['a'.'b','c']\n",
        "if 'a'in listData:print('\"a\"가 listData에 요소로 존재합니다.')"
      ],
      "metadata": {
        "colab": {
          "base_uri": "https://localhost:8080/",
          "height": 110
        },
        "id": "pVaClKBGTDGm",
        "outputId": "7a7c1feb-1787-4c67-d788-8d756d355f29"
      },
      "execution_count": 8,
      "outputs": [
        {
          "output_type": "error",
          "ename": "SyntaxError",
          "evalue": "invalid syntax (ipython-input-3986329694.py, line 1)",
          "traceback": [
            "\u001b[0;36m  File \u001b[0;32m\"/tmp/ipython-input-3986329694.py\"\u001b[0;36m, line \u001b[0;32m1\u001b[0m\n\u001b[0;31m    listData=['a'.'b','c']\u001b[0m\n\u001b[0m                  ^\u001b[0m\n\u001b[0;31mSyntaxError\u001b[0m\u001b[0;31m:\u001b[0m invalid syntax\n"
          ]
        }
      ]
    },
    {
      "cell_type": "code",
      "source": [
        "if'a'in listData:\n",
        ""
      ],
      "metadata": {
        "colab": {
          "base_uri": "https://localhost:8080/",
          "height": 110
        },
        "id": "-QmCTkFyTqQu",
        "outputId": "730c1627-ecf2-4fd6-90ec-b28522942daf"
      },
      "execution_count": 13,
      "outputs": [
        {
          "output_type": "error",
          "ename": "SyntaxError",
          "evalue": "incomplete input (ipython-input-205865299.py, line 2)",
          "traceback": [
            "\u001b[0;36m  File \u001b[0;32m\"/tmp/ipython-input-205865299.py\"\u001b[0;36m, line \u001b[0;32m2\u001b[0m\n\u001b[0;31m    \u001b[0m\n\u001b[0m    ^\u001b[0m\n\u001b[0;31mSyntaxError\u001b[0m\u001b[0;31m:\u001b[0m incomplete input\n"
          ]
        }
      ]
    },
    {
      "cell_type": "code",
      "source": [
        "listData=['a','b','c']\n",
        "if 'a'in listData:\n",
        "  print('\"a가 listData에 요소로 존재합니다.')\n",
        "else:\n",
        "  print('\"a가listData에 요소로 존재하지 않습니다.')"
      ],
      "metadata": {
        "colab": {
          "base_uri": "https://localhost:8080/"
        },
        "id": "YaL17G76T6H9",
        "outputId": "adf1c8d5-9448-46f2-f023-a4786bb1a604"
      },
      "execution_count": 14,
      "outputs": [
        {
          "output_type": "stream",
          "name": "stdout",
          "text": [
            "\"a가 listData에 요소로 존재합니다.\n"
          ]
        }
      ]
    },
    {
      "cell_type": "code",
      "source": [
        "listData=['a'.'b','c']\n",
        "if'a'inlistData:\n",
        "  print('\"a가 listData에 요소로 존재합니다.')\n",
        "  print('프로그램을 종료합니다.')\n",
        "  else:\n",
        "    print('\"a\"가 listDta에 요소로 존재하지 않습니다.')"
      ],
      "metadata": {
        "colab": {
          "base_uri": "https://localhost:8080/",
          "height": 110
        },
        "id": "l94qmDh6UaIt",
        "outputId": "713d15fd-a4a5-46be-d041-b1abf4e52392"
      },
      "execution_count": 16,
      "outputs": [
        {
          "output_type": "error",
          "ename": "SyntaxError",
          "evalue": "invalid syntax (ipython-input-3305782031.py, line 1)",
          "traceback": [
            "\u001b[0;36m  File \u001b[0;32m\"/tmp/ipython-input-3305782031.py\"\u001b[0;36m, line \u001b[0;32m1\u001b[0m\n\u001b[0;31m    listData=['a'.'b','c']\u001b[0m\n\u001b[0m                  ^\u001b[0m\n\u001b[0;31mSyntaxError\u001b[0m\u001b[0;31m:\u001b[0m invalid syntax\n"
          ]
        }
      ]
    },
    {
      "cell_type": "code",
      "source": [
        "val=None\n",
        "flag=True\n",
        "ifflag:\n",
        "  val=[1,2,3,4,5]\n",
        "else:\n",
        "  val='안녕하세요 파이썬!'"
      ],
      "metadata": {
        "id": "_8hzb_YlVN_N"
      },
      "execution_count": null,
      "outputs": []
    }
  ]
}