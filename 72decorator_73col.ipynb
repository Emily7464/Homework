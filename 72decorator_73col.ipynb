{
  "nbformat": 4,
  "nbformat_minor": 0,
  "metadata": {
    "colab": {
      "provenance": [],
      "authorship_tag": "ABX9TyMp5J94m9gEJsVTk3N4ut1L",
      "include_colab_link": true
    },
    "kernelspec": {
      "name": "python3",
      "display_name": "Python 3"
    },
    "language_info": {
      "name": "python"
    }
  },
  "cells": [
    {
      "cell_type": "markdown",
      "metadata": {
        "id": "view-in-github",
        "colab_type": "text"
      },
      "source": [
        "<a href=\"https://colab.research.google.com/github/Emily7464/Homework/blob/main/72decorator_73col.ipynb\" target=\"_parent\"><img src=\"https://colab.research.google.com/assets/colab-badge.svg\" alt=\"Open In Colab\"/></a>"
      ]
    },
    {
      "cell_type": "code",
      "execution_count": 1,
      "metadata": {
        "id": "gaU_IRSZ72A4"
      },
      "outputs": [],
      "source": [
        "strData1='i love python!'\n",
        "strData2=\"사랑해요 파이썬!\"\n",
        "strData3=\"\"\"A lot of things\n",
        "occur each day.\"\"\""
      ]
    },
    {
      "cell_type": "code",
      "source": [
        "while True:\n",
        "  ch=input('문자 1개를 입력하세요[끝내려면 엔터를 치세요]:')\n",
        "  if len(ch)==0:\n",
        "    break\n",
        "  ch=ch[0]\n",
        "  code=ord(ch)\n",
        "  print(f'-->문자\"{ch}\"의 코드값:{hex(code)}')"
      ],
      "metadata": {
        "colab": {
          "base_uri": "https://localhost:8080/"
        },
        "id": "IpXLRhKP8O4b",
        "outputId": "08f78d12-0d47-4b45-b7f9-5e3801976fcb"
      },
      "execution_count": 2,
      "outputs": [
        {
          "name": "stdout",
          "output_type": "stream",
          "text": [
            "문자 1개를 입력하세요[끝내려면 엔터를 치세요]:\n"
          ]
        }
      ]
    }
  ]
}