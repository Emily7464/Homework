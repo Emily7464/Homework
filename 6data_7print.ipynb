{
  "nbformat": 4,
  "nbformat_minor": 0,
  "metadata": {
    "colab": {
      "provenance": [],
      "authorship_tag": "ABX9TyOGv8o8dGK3SrhFSomaMO8j",
      "include_colab_link": true
    },
    "kernelspec": {
      "name": "python3",
      "display_name": "Python 3"
    },
    "language_info": {
      "name": "python"
    }
  },
  "cells": [
    {
      "cell_type": "markdown",
      "metadata": {
        "id": "view-in-github",
        "colab_type": "text"
      },
      "source": [
        "<a href=\"https://colab.research.google.com/github/Emily7464/Repository-name-Exercise_2025/blob/main/6data_7print.ipynb\" target=\"_parent\"><img src=\"https://colab.research.google.com/assets/colab-badge.svg\" alt=\"Open In Colab\"/></a>"
      ]
    },
    {
      "cell_type": "code",
      "execution_count": 1,
      "metadata": {
        "id": "HupWrIQyFAGd"
      },
      "outputs": [],
      "source": [
        "intData=15\n",
        "floatData=2.5\n",
        "complexData=1+1j"
      ]
    },
    {
      "cell_type": "code",
      "source": [
        "isTrue=True\n",
        "isFalse=False"
      ],
      "metadata": {
        "id": "zRgBzFTzFci5"
      },
      "execution_count": 2,
      "outputs": []
    },
    {
      "cell_type": "code",
      "source": [
        "setData={1,2,3,4,5}"
      ],
      "metadata": {
        "id": "XQ-Nv9R0Fln-"
      },
      "execution_count": 4,
      "outputs": []
    },
    {
      "cell_type": "code",
      "source": [
        "print('안녕하세요 파이썬!')"
      ],
      "metadata": {
        "colab": {
          "base_uri": "https://localhost:8080/"
        },
        "id": "UK6EQSyeFsgm",
        "outputId": "d95ad7b4-df96-47b1-a88d-20459ada1c85"
      },
      "execution_count": 5,
      "outputs": [
        {
          "output_type": "stream",
          "name": "stdout",
          "text": [
            "안녕하세요 파이썬!\n"
          ]
        }
      ]
    },
    {
      "cell_type": "code",
      "source": [
        "hello='안녕하세요 파이썬!'\n",
        "print(hello)"
      ],
      "metadata": {
        "colab": {
          "base_uri": "https://localhost:8080/"
        },
        "id": "HDINYui7FyZO",
        "outputId": "06720268-8c6c-40b8-e2f1-a8ddc3eb68ed"
      },
      "execution_count": 6,
      "outputs": [
        {
          "output_type": "stream",
          "name": "stdout",
          "text": [
            "안녕하세요 파이썬!\n"
          ]
        }
      ]
    },
    {
      "cell_type": "code",
      "source": [
        "intData1=1\n",
        "intData2=2\n",
        "print(intData1+intData2)"
      ],
      "metadata": {
        "colab": {
          "base_uri": "https://localhost:8080/"
        },
        "id": "Wn8O_IJDF-Xv",
        "outputId": "9613c7ea-b0e5-4328-9503-7a1806704f7f"
      },
      "execution_count": 8,
      "outputs": [
        {
          "output_type": "stream",
          "name": "stdout",
          "text": [
            "3\n"
          ]
        }
      ]
    },
    {
      "cell_type": "code",
      "source": [
        "name='홍길동'\n",
        "phone='010-1234-5678'\n",
        "print('이름:',name,'핸드폰:',phone)"
      ],
      "metadata": {
        "colab": {
          "base_uri": "https://localhost:8080/"
        },
        "id": "G_gmXA1rGM0j",
        "outputId": "37b8abfc-02df-4b5c-a8d9-c6151b7eee78"
      },
      "execution_count": 9,
      "outputs": [
        {
          "output_type": "stream",
          "name": "stdout",
          "text": [
            "이름: 홍길동 핸드폰: 010-1234-5678\n"
          ]
        }
      ]
    },
    {
      "cell_type": "code",
      "source": [
        "print('#',end='')\n",
        "print('#'*5)\n"
      ],
      "metadata": {
        "colab": {
          "base_uri": "https://localhost:8080/"
        },
        "id": "6O8BLFAIGeED",
        "outputId": "7b1f7060-79b3-425e-96dc-1e6971af7bf2"
      },
      "execution_count": 10,
      "outputs": [
        {
          "output_type": "stream",
          "name": "stdout",
          "text": [
            "######\n"
          ]
        }
      ]
    },
    {
      "cell_type": "code",
      "source": [
        "print(name,phone,sep=';')"
      ],
      "metadata": {
        "colab": {
          "base_uri": "https://localhost:8080/"
        },
        "id": "iuBZcsRNGp27",
        "outputId": "316285c5-63af-4c57-9bca-bf008e52c52c"
      },
      "execution_count": 11,
      "outputs": [
        {
          "output_type": "stream",
          "name": "stdout",
          "text": [
            "홍길동;010-1234-5678\n"
          ]
        }
      ]
    }
  ]
}