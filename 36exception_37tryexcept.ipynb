{
  "nbformat": 4,
  "nbformat_minor": 0,
  "metadata": {
    "colab": {
      "provenance": [],
      "authorship_tag": "ABX9TyO0v7WlGDkY7WxOcVxBuld3",
      "include_colab_link": true
    },
    "kernelspec": {
      "name": "python3",
      "display_name": "Python 3"
    },
    "language_info": {
      "name": "python"
    }
  },
  "cells": [
    {
      "cell_type": "markdown",
      "metadata": {
        "id": "view-in-github",
        "colab_type": "text"
      },
      "source": [
        "<a href=\"https://colab.research.google.com/github/Emily7464/Homework/blob/main/36exception_37tryexcept.ipynb\" target=\"_parent\"><img src=\"https://colab.research.google.com/assets/colab-badge.svg\" alt=\"Open In Colab\"/></a>"
      ]
    },
    {
      "cell_type": "code",
      "execution_count": 1,
      "metadata": {
        "colab": {
          "base_uri": "https://localhost:8080/",
          "height": 110
        },
        "id": "nncPoSTwh6f9",
        "outputId": "98f7616b-90bc-4040-da80-7a02e37ff2a9"
      },
      "outputs": [
        {
          "output_type": "error",
          "ename": "SyntaxError",
          "evalue": "invalid syntax (ipython-input-78398618.py, line 1)",
          "traceback": [
            "\u001b[0;36m  File \u001b[0;32m\"/tmp/ipython-input-78398618.py\"\u001b[0;36m, line \u001b[0;32m1\u001b[0m\n\u001b[0;31m    calss MyRange:\u001b[0m\n\u001b[0m          ^\u001b[0m\n\u001b[0;31mSyntaxError\u001b[0m\u001b[0;31m:\u001b[0m invalid syntax\n"
          ]
        }
      ],
      "source": [
        "calss MyRange:\n",
        "def__init__(self,n):\n",
        "  self.maxn=n\n",
        "  self.current=0\n",
        "\n",
        "def__iter__(self):\n",
        "  return self\n",
        "\n",
        "def__next__(self):\n",
        "  ifself.current>=self.maxn:\n",
        "    raise Stopiteration\n",
        "    else:\n",
        "\n",
        "      ret=self.current\n",
        "      self.current+=1\n",
        "      return ret"
      ]
    },
    {
      "cell_type": "code",
      "source": [
        "def MyRange(n):\n",
        "  current=0\n",
        "  while current<n:\n",
        "    yield current\n",
        "    current+=1"
      ],
      "metadata": {
        "id": "ZrGrpXGwi48W"
      },
      "execution_count": 2,
      "outputs": []
    }
  ]
}