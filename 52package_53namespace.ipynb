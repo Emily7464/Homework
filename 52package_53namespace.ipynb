{
  "nbformat": 4,
  "nbformat_minor": 0,
  "metadata": {
    "colab": {
      "provenance": [],
      "authorship_tag": "ABX9TyP0KYyn6oVvwAH7YjBAJ9O+",
      "include_colab_link": true
    },
    "kernelspec": {
      "name": "python3",
      "display_name": "Python 3"
    },
    "language_info": {
      "name": "python"
    }
  },
  "cells": [
    {
      "cell_type": "markdown",
      "metadata": {
        "id": "view-in-github",
        "colab_type": "text"
      },
      "source": [
        "<a href=\"https://colab.research.google.com/github/Emily7464/Homework/blob/main/52package_53namespace.ipynb\" target=\"_parent\"><img src=\"https://colab.research.google.com/assets/colab-badge.svg\" alt=\"Open In Colab\"/></a>"
      ]
    },
    {
      "cell_type": "code",
      "execution_count": 1,
      "metadata": {
        "colab": {
          "base_uri": "https://localhost:8080/"
        },
        "id": "lYbOxPvQpdzw",
        "outputId": "d84616e9-ee11-4bab-f130-de71701414e6"
      },
      "outputs": [
        {
          "output_type": "stream",
          "name": "stdout",
          "text": [
            "True\n"
          ]
        }
      ],
      "source": [
        "lyrics='A lot of things occur each day!'\n",
        "flag='things'in lyrics\n",
        "print(flag)"
      ]
    },
    {
      "cell_type": "code",
      "source": [
        "urlList=['url1','url2','url3']\n",
        "if 'url4'in urlList:\n",
        "  print('url4 가 urlList의 요소로 존재합니다.')\n",
        "else:\n",
        "  print('url4가urlList의 요소로 존재하지 않습니다.')"
      ],
      "metadata": {
        "colab": {
          "base_uri": "https://localhost:8080/"
        },
        "id": "qgcxRHJzp0Rt",
        "outputId": "ac09ef1c-b997-44c4-cfd6-508d57a0a455"
      },
      "execution_count": 2,
      "outputs": [
        {
          "output_type": "stream",
          "name": "stdout",
          "text": [
            "url4가urlList의 요소로 존재하지 않습니다.\n"
          ]
        }
      ]
    },
    {
      "cell_type": "code",
      "source": [
        "fruits=('사과','배','참외')\n",
        "pos=fruits.index('배')\n",
        "print(f'배는{pos+1}번째 과일입니다.')"
      ],
      "metadata": {
        "colab": {
          "base_uri": "https://localhost:8080/"
        },
        "id": "U7g3N8cHqPFx",
        "outputId": "db3dc380-3bd3-42cc-a1fb-17a21b84ee41"
      },
      "execution_count": 3,
      "outputs": [
        {
          "output_type": "stream",
          "name": "stdout",
          "text": [
            "배는2번째 과일입니다.\n"
          ]
        }
      ]
    }
  ]
}