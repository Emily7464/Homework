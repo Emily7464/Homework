{
  "nbformat": 4,
  "nbformat_minor": 0,
  "metadata": {
    "colab": {
      "provenance": [],
      "authorship_tag": "ABX9TyOZkDzLRzkgNWctqQmXUZkZ",
      "include_colab_link": true
    },
    "kernelspec": {
      "name": "python3",
      "display_name": "Python 3"
    },
    "language_info": {
      "name": "python"
    }
  },
  "cells": [
    {
      "cell_type": "markdown",
      "metadata": {
        "id": "view-in-github",
        "colab_type": "text"
      },
      "source": [
        "<a href=\"https://colab.research.google.com/github/Emily7464/Homework/blob/main/24function_25return.ipynb\" target=\"_parent\"><img src=\"https://colab.research.google.com/assets/colab-badge.svg\" alt=\"Open In Colab\"/></a>"
      ]
    },
    {
      "cell_type": "code",
      "execution_count": 1,
      "metadata": {
        "colab": {
          "base_uri": "https://localhost:8080/",
          "height": 221
        },
        "id": "RlYYluNggoaR",
        "outputId": "4fa7074e-d5e3-4e83-b69a-226b2d81b445"
      },
      "outputs": [
        {
          "output_type": "error",
          "ename": "NameError",
          "evalue": "name 'strData' is not defined",
          "traceback": [
            "\u001b[0;31m---------------------------------------------------------------------------\u001b[0m",
            "\u001b[0;31mNameError\u001b[0m                                 Traceback (most recent call last)",
            "\u001b[0;32m/tmp/ipython-input-3359106138.py\u001b[0m in \u001b[0;36m<cell line: 0>\u001b[0;34m()\u001b[0m\n\u001b[1;32m      4\u001b[0m \u001b[0mflag2\u001b[0m\u001b[0;34m=\u001b[0m\u001b[0mx\u001b[0m\u001b[0;34m<\u001b[0m\u001b[0my\u001b[0m\u001b[0;34m\u001b[0m\u001b[0;34m\u001b[0m\u001b[0m\n\u001b[1;32m      5\u001b[0m \u001b[0mflag3\u001b[0m\u001b[0;34m=\u001b[0m\u001b[0mstrData1\u001b[0m\u001b[0;34m!=\u001b[0m\u001b[0mstrData2\u001b[0m\u001b[0;34m\u001b[0m\u001b[0;34m\u001b[0m\u001b[0m\n\u001b[0;32m----> 6\u001b[0;31m \u001b[0mflag4\u001b[0m\u001b[0;34m=\u001b[0m\u001b[0mstrData\u001b[0m\u001b[0;34m>\u001b[0m\u001b[0mstrData2\u001b[0m\u001b[0;34m\u001b[0m\u001b[0;34m\u001b[0m\u001b[0m\n\u001b[0m\u001b[1;32m      7\u001b[0m \u001b[0;34m\u001b[0m\u001b[0m\n\u001b[1;32m      8\u001b[0m \u001b[0mprint\u001b[0m\u001b[0;34m(\u001b[0m\u001b[0mflag1\u001b[0m \u001b[0;32mand\u001b[0m \u001b[0mflag2\u001b[0m\u001b[0;34m)\u001b[0m\u001b[0;34m\u001b[0m\u001b[0;34m\u001b[0m\u001b[0m\n",
            "\u001b[0;31mNameError\u001b[0m: name 'strData' is not defined"
          ]
        }
      ],
      "source": [
        "x=1;y=2\n",
        "strData1='Hello';strData2='python'\n",
        "flag1=x==y\n",
        "flag2=x<y\n",
        "flag3=strData1!=strData2\n",
        "flag4=strData>strData2\n",
        "\n",
        "print(flag1 and flag2)\n",
        "print(flag2 and flag3)\n",
        "priint(flag3 or flag4)\n",
        "print(not flag1)\n",
        "print(not flag2)"
      ]
    },
    {
      "cell_type": "code",
      "source": [
        "bit1=0x61;bit2=0x62\n",
        "print(hex(bit1&bit2))"
      ],
      "metadata": {
        "colab": {
          "base_uri": "https://localhost:8080/"
        },
        "id": "1_MHzpUehuE-",
        "outputId": "ede8ee95-cc38-4b63-da55-3683c7096411"
      },
      "execution_count": 2,
      "outputs": [
        {
          "output_type": "stream",
          "name": "stdout",
          "text": [
            "0x60\n"
          ]
        }
      ]
    }
  ]
}